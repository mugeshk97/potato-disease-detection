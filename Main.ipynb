{
 "cells": [
  {
   "cell_type": "code",
   "execution_count": 1,
   "id": "a886eb77",
   "metadata": {},
   "outputs": [],
   "source": [
    "import tensorflow as tf\n",
    "gpu = tf.config.experimental.list_physical_devices('GPU')[0]\n",
    "tf.config.experimental.set_memory_growth(gpu, True)\n",
    "import os"
   ]
  },
  {
   "cell_type": "markdown",
   "id": "536b870d",
   "metadata": {},
   "source": [
    "### Input-Pipeline"
   ]
  },
  {
   "cell_type": "code",
   "execution_count": 2,
   "id": "20bde6c8",
   "metadata": {},
   "outputs": [
    {
     "name": "stdout",
     "output_type": "stream",
     "text": [
      "Found 2152 files belonging to 3 classes.\n"
     ]
    }
   ],
   "source": [
    "data = tf.keras.preprocessing.image_dataset_from_directory(\"PlantVillage/\",shuffle = True, seed = 11,\n",
    "                                                          image_size = (256, 256), \n",
    "                                                          batch_size = 32)"
   ]
  },
  {
   "cell_type": "code",
   "execution_count": 3,
   "id": "dd4b4fdc",
   "metadata": {},
   "outputs": [
    {
     "data": {
      "text/plain": [
       "['potato_early_blight', 'potato_healthy', 'potato_late_blight']"
      ]
     },
     "execution_count": 3,
     "metadata": {},
     "output_type": "execute_result"
    }
   ],
   "source": [
    "class_names = data.class_names\n",
    "class_names"
   ]
  },
  {
   "cell_type": "code",
   "execution_count": 4,
   "id": "49c8553d",
   "metadata": {},
   "outputs": [
    {
     "data": {
      "text/plain": [
       "68"
      ]
     },
     "execution_count": 4,
     "metadata": {},
     "output_type": "execute_result"
    }
   ],
   "source": [
    "# no of batches in data\n",
    "len(data)"
   ]
  },
  {
   "cell_type": "code",
   "execution_count": 5,
   "id": "0fde45f3",
   "metadata": {},
   "outputs": [
    {
     "name": "stdout",
     "output_type": "stream",
     "text": [
      "(32, 256, 256, 3)\n",
      "tf.Tensor([2 2 2 1 2 0 2 1 2 0 0 0 2 0 0 0 2 2 2 0 2 2 2 1 0 2 0 0 2 2 1 2], shape=(32,), dtype=int32)\n"
     ]
    }
   ],
   "source": [
    "# taking 1 batch\n",
    "for image, labels in data.take(1):\n",
    "    print(image.shape)\n",
    "    print(labels)"
   ]
  },
  {
   "cell_type": "markdown",
   "id": "23fa6f47",
   "metadata": {},
   "source": [
    "### Train-Test-Split"
   ]
  },
  {
   "cell_type": "code",
   "execution_count": 6,
   "id": "79f8d6e4",
   "metadata": {},
   "outputs": [],
   "source": [
    "def dataset_partitions(ds, train_split=0.8, val_split=0.1, test_split=0.1):\n",
    "    \n",
    "    ds_size = len(ds)\n",
    "    \n",
    "    train_size = int(train_split * ds_size)\n",
    "    val_size = int(val_split * ds_size)\n",
    "    \n",
    "    train_ds = ds.take(train_size)    \n",
    "    val_ds = ds.skip(train_size).take(val_size)\n",
    "    test_ds = ds.skip(train_size).skip(val_size)\n",
    "    \n",
    "    return train_ds, val_ds, test_ds"
   ]
  },
  {
   "cell_type": "code",
   "execution_count": 7,
   "id": "b41b4f24",
   "metadata": {},
   "outputs": [],
   "source": [
    "train, val, test = dataset_partitions(data)"
   ]
  },
  {
   "cell_type": "code",
   "execution_count": 8,
   "id": "a5a90c7e",
   "metadata": {},
   "outputs": [],
   "source": [
    "train = train.cache().shuffle(100).prefetch(buffer_size=tf.data.AUTOTUNE)\n",
    "val = val.cache().shuffle(100).prefetch(buffer_size=tf.data.AUTOTUNE)\n",
    "test = test.cache().shuffle(100).prefetch(buffer_size=tf.data.AUTOTUNE)"
   ]
  },
  {
   "cell_type": "markdown",
   "id": "245d8b3f",
   "metadata": {},
   "source": [
    "### Model-Architecture"
   ]
  },
  {
   "cell_type": "code",
   "execution_count": 9,
   "id": "c8d7612a",
   "metadata": {},
   "outputs": [],
   "source": [
    "resize_and_rescale = tf.keras.Sequential([\n",
    "  tf.keras.layers.experimental.preprocessing.Resizing(256, 256),\n",
    "  tf.keras.layers.experimental.preprocessing.Rescaling(1./255),\n",
    "])"
   ]
  },
  {
   "cell_type": "code",
   "execution_count": 10,
   "id": "2ffb099d",
   "metadata": {},
   "outputs": [],
   "source": [
    "INPUT_SHAPE = (32, 256, 256, 3)\n",
    "NUM_CLASSES = len(class_names)"
   ]
  },
  {
   "cell_type": "code",
   "execution_count": 19,
   "id": "0d7dc7e5",
   "metadata": {},
   "outputs": [],
   "source": [
    "model = tf.keras.models.Sequential([\n",
    "    resize_and_rescale,\n",
    "    tf.keras.layers.Conv2D(32, kernel_size = (3,3), activation='relu', input_shape=INPUT_SHAPE),\n",
    "    tf.keras.layers.MaxPooling2D((2, 2)),\n",
    "    tf.keras.layers.Conv2D(64,  kernel_size = (3,3), activation='relu'),\n",
    "    tf.keras.layers.MaxPooling2D((2, 2)),\n",
    "    tf.keras.layers.Conv2D(64,  kernel_size = (3,3), activation='relu'),\n",
    "    tf.keras.layers.MaxPooling2D((2, 2)),\n",
    "    tf.keras.layers.Conv2D(64, (3, 3), activation='relu'),\n",
    "    tf.keras.layers.MaxPooling2D((2, 2)),\n",
    "    tf.keras.layers.Conv2D(64, (3, 3), activation='relu'),\n",
    "    tf.keras.layers.MaxPooling2D((2, 2)),\n",
    "    tf.keras.layers.Conv2D(64, (3, 3), activation='relu'),\n",
    "    tf.keras.layers.MaxPooling2D((2, 2)),\n",
    "    tf.keras.layers.Flatten(),\n",
    "    tf.keras.layers.Dense(64, activation='relu'),\n",
    "    tf.keras.layers.Dense(NUM_CLASSES, activation='softmax'),\n",
    "])"
   ]
  },
  {
   "cell_type": "code",
   "execution_count": 20,
   "id": "20a89938",
   "metadata": {},
   "outputs": [],
   "source": [
    "model.build(INPUT_SHAPE)"
   ]
  },
  {
   "cell_type": "code",
   "execution_count": 21,
   "id": "8a792dba",
   "metadata": {},
   "outputs": [
    {
     "name": "stdout",
     "output_type": "stream",
     "text": [
      "Model: \"sequential_2\"\n",
      "_________________________________________________________________\n",
      "Layer (type)                 Output Shape              Param #   \n",
      "=================================================================\n",
      "sequential (Sequential)      (None, 256, 256, 3)       0         \n",
      "_________________________________________________________________\n",
      "conv2d_6 (Conv2D)            (32, 254, 254, 32)        896       \n",
      "_________________________________________________________________\n",
      "max_pooling2d_6 (MaxPooling2 (32, 127, 127, 32)        0         \n",
      "_________________________________________________________________\n",
      "conv2d_7 (Conv2D)            (32, 125, 125, 64)        18496     \n",
      "_________________________________________________________________\n",
      "max_pooling2d_7 (MaxPooling2 (32, 62, 62, 64)          0         \n",
      "_________________________________________________________________\n",
      "conv2d_8 (Conv2D)            (32, 60, 60, 64)          36928     \n",
      "_________________________________________________________________\n",
      "max_pooling2d_8 (MaxPooling2 (32, 30, 30, 64)          0         \n",
      "_________________________________________________________________\n",
      "conv2d_9 (Conv2D)            (32, 28, 28, 64)          36928     \n",
      "_________________________________________________________________\n",
      "max_pooling2d_9 (MaxPooling2 (32, 14, 14, 64)          0         \n",
      "_________________________________________________________________\n",
      "conv2d_10 (Conv2D)           (32, 12, 12, 64)          36928     \n",
      "_________________________________________________________________\n",
      "max_pooling2d_10 (MaxPooling (32, 6, 6, 64)            0         \n",
      "_________________________________________________________________\n",
      "conv2d_11 (Conv2D)           (32, 4, 4, 64)            36928     \n",
      "_________________________________________________________________\n",
      "max_pooling2d_11 (MaxPooling (32, 2, 2, 64)            0         \n",
      "_________________________________________________________________\n",
      "flatten_1 (Flatten)          (32, 256)                 0         \n",
      "_________________________________________________________________\n",
      "dense_2 (Dense)              (32, 64)                  16448     \n",
      "_________________________________________________________________\n",
      "dense_3 (Dense)              (32, 3)                   195       \n",
      "=================================================================\n",
      "Total params: 183,747\n",
      "Trainable params: 183,747\n",
      "Non-trainable params: 0\n",
      "_________________________________________________________________\n"
     ]
    }
   ],
   "source": [
    "model.summary()"
   ]
  },
  {
   "cell_type": "code",
   "execution_count": 22,
   "id": "2f67637b",
   "metadata": {},
   "outputs": [],
   "source": [
    "model.compile(\n",
    "    optimizer='adam',\n",
    "    loss=tf.keras.losses.SparseCategoricalCrossentropy(from_logits=False),\n",
    "    metrics=['accuracy']\n",
    ")"
   ]
  },
  {
   "cell_type": "code",
   "execution_count": 23,
   "id": "1452c29b",
   "metadata": {},
   "outputs": [
    {
     "name": "stdout",
     "output_type": "stream",
     "text": [
      "Epoch 1/2\n",
      "54/54 [==============================] - 5s 93ms/step - loss: 0.9275 - accuracy: 0.5058 - val_loss: 0.7367 - val_accuracy: 0.6094\n",
      "Epoch 2/2\n",
      "54/54 [==============================] - 5s 90ms/step - loss: 0.7217 - accuracy: 0.6358 - val_loss: 0.6358 - val_accuracy: 0.6719\n"
     ]
    }
   ],
   "source": [
    "history = model.fit(\n",
    "    train,\n",
    "    batch_size=32,\n",
    "    validation_data=val,\n",
    "    verbose=1,\n",
    "    epochs=2,\n",
    ")"
   ]
  },
  {
   "cell_type": "code",
   "execution_count": 24,
   "id": "81f2a1c0",
   "metadata": {},
   "outputs": [
    {
     "name": "stdout",
     "output_type": "stream",
     "text": [
      "8/8 [==============================] - 0s 23ms/step - loss: 0.6061 - accuracy: 0.7414\n"
     ]
    },
    {
     "data": {
      "text/plain": [
       "[0.6060810089111328, 0.7413793206214905]"
      ]
     },
     "execution_count": 24,
     "metadata": {},
     "output_type": "execute_result"
    }
   ],
   "source": [
    "scores = model.evaluate(test)\n",
    "scores"
   ]
  },
  {
   "cell_type": "code",
   "execution_count": 25,
   "id": "2a8feb84",
   "metadata": {},
   "outputs": [
    {
     "name": "stdout",
     "output_type": "stream",
     "text": [
      "INFO:tensorflow:Assets written to: serving/models/3/assets\n",
      "saved model version 3\n"
     ]
    }
   ],
   "source": [
    "model_version = max([int(i) for i in os.listdir('serving/models/')+[0]])+1\n",
    "model.save(f\"serving/models/{model_version}\")\n",
    "print(f'saved model version {model_version}')"
   ]
  },
  {
   "cell_type": "code",
   "execution_count": null,
   "id": "c0f98b66",
   "metadata": {},
   "outputs": [],
   "source": []
  }
 ],
 "metadata": {
  "kernelspec": {
   "display_name": "Python 3",
   "language": "python",
   "name": "python3"
  },
  "language_info": {
   "codemirror_mode": {
    "name": "ipython",
    "version": 3
   },
   "file_extension": ".py",
   "mimetype": "text/x-python",
   "name": "python",
   "nbconvert_exporter": "python",
   "pygments_lexer": "ipython3",
   "version": "3.8.8"
  }
 },
 "nbformat": 4,
 "nbformat_minor": 5
}
