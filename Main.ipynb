{
 "cells": [
  {
   "cell_type": "code",
   "execution_count": 1,
   "id": "a886eb77",
   "metadata": {},
   "outputs": [],
   "source": [
    "import tensorflow as tf\n",
    "gpu = tf.config.experimental.list_physical_devices('GPU')[0]\n",
    "tf.config.experimental.set_memory_growth(gpu, True)\n",
    "import os"
   ]
  },
  {
   "cell_type": "markdown",
   "id": "536b870d",
   "metadata": {},
   "source": [
    "### Input-Pipeline"
   ]
  },
  {
   "cell_type": "code",
   "execution_count": 2,
   "id": "20bde6c8",
   "metadata": {},
   "outputs": [
    {
     "name": "stdout",
     "output_type": "stream",
     "text": [
      "Found 2152 files belonging to 3 classes.\n"
     ]
    }
   ],
   "source": [
    "data = tf.keras.preprocessing.image_dataset_from_directory(\"PlantVillage/\",shuffle = True, seed = 11,\n",
    "                                                          image_size = (256, 256), \n",
    "                                                          batch_size = 32)"
   ]
  },
  {
   "cell_type": "code",
   "execution_count": 3,
   "id": "dd4b4fdc",
   "metadata": {},
   "outputs": [
    {
     "data": {
      "text/plain": [
       "['potato_early_blight', 'potato_healthy', 'potato_late_blight']"
      ]
     },
     "execution_count": 3,
     "metadata": {},
     "output_type": "execute_result"
    }
   ],
   "source": [
    "class_names = data.class_names\n",
    "class_names"
   ]
  },
  {
   "cell_type": "code",
   "execution_count": 4,
   "id": "49c8553d",
   "metadata": {},
   "outputs": [
    {
     "data": {
      "text/plain": [
       "68"
      ]
     },
     "execution_count": 4,
     "metadata": {},
     "output_type": "execute_result"
    }
   ],
   "source": [
    "# no of batches in data\n",
    "len(data)"
   ]
  },
  {
   "cell_type": "code",
   "execution_count": 5,
   "id": "0fde45f3",
   "metadata": {},
   "outputs": [
    {
     "name": "stdout",
     "output_type": "stream",
     "text": [
      "(32, 256, 256, 3)\n",
      "tf.Tensor([2 2 2 1 2 0 2 1 2 0 0 0 2 0 0 0 2 2 2 0 2 2 2 1 0 2 0 0 2 2 1 2], shape=(32,), dtype=int32)\n"
     ]
    }
   ],
   "source": [
    "# taking 1 batch\n",
    "for image, labels in data.take(1):\n",
    "    print(image.shape)\n",
    "    print(labels)"
   ]
  },
  {
   "cell_type": "markdown",
   "id": "23fa6f47",
   "metadata": {},
   "source": [
    "### Train-Test-Split"
   ]
  },
  {
   "cell_type": "code",
   "execution_count": 6,
   "id": "79f8d6e4",
   "metadata": {},
   "outputs": [],
   "source": [
    "def dataset_partitions(ds, train_split=0.8, val_split=0.1, test_split=0.1):\n",
    "    \n",
    "    ds_size = len(ds)\n",
    "    \n",
    "    train_size = int(train_split * ds_size)\n",
    "    val_size = int(val_split * ds_size)\n",
    "    \n",
    "    train_ds = ds.take(train_size)    \n",
    "    val_ds = ds.skip(train_size).take(val_size)\n",
    "    test_ds = ds.skip(train_size).skip(val_size)\n",
    "    \n",
    "    return train_ds, val_ds, test_ds"
   ]
  },
  {
   "cell_type": "code",
   "execution_count": 7,
   "id": "b41b4f24",
   "metadata": {},
   "outputs": [],
   "source": [
    "train, val, test = dataset_partitions(data)"
   ]
  },
  {
   "cell_type": "code",
   "execution_count": 8,
   "id": "a5a90c7e",
   "metadata": {},
   "outputs": [],
   "source": [
    "train = train.cache().shuffle(100).prefetch(buffer_size=tf.data.AUTOTUNE)\n",
    "val = val.cache().shuffle(100).prefetch(buffer_size=tf.data.AUTOTUNE)\n",
    "test = test.cache().shuffle(100).prefetch(buffer_size=tf.data.AUTOTUNE)"
   ]
  },
  {
   "cell_type": "markdown",
   "id": "245d8b3f",
   "metadata": {},
   "source": [
    "### Model-Architecture"
   ]
  },
  {
   "cell_type": "code",
   "execution_count": 10,
   "id": "c8d7612a",
   "metadata": {},
   "outputs": [],
   "source": [
    "resize_and_rescale = tf.keras.Sequential([\n",
    "  tf.keras.layers.experimental.preprocessing.Resizing(256, 256),\n",
    "  tf.keras.layers.experimental.preprocessing.Rescaling(1./255),\n",
    "])"
   ]
  },
  {
   "cell_type": "code",
   "execution_count": 13,
   "id": "2ffb099d",
   "metadata": {},
   "outputs": [],
   "source": [
    "INPUT_SHAPE = (32, 256, 256, 3)\n",
    "NUM_CLASSES = len(class_names)"
   ]
  },
  {
   "cell_type": "code",
   "execution_count": 16,
   "id": "0d7dc7e5",
   "metadata": {},
   "outputs": [],
   "source": [
    "model = tf.keras.models.Sequential([\n",
    "    resize_and_rescale,\n",
    "    tf.keras.layers.Conv2D(32, kernel_size = (3,3), activation='relu', input_shape=INPUT_SHAPE),\n",
    "    tf.keras.layers.MaxPooling2D((2, 2)),\n",
    "    tf.keras.layers.Conv2D(64,  kernel_size = (3,3), activation='relu'),\n",
    "    tf.keras.layers.MaxPooling2D((2, 2)),\n",
    "    tf.keras.layers.Conv2D(64,  kernel_size = (3,3), activation='relu'),\n",
    "    tf.keras.layers.MaxPooling2D((2, 2)),\n",
    "    tf.keras.layers.Conv2D(64, (3, 3), activation='relu'),\n",
    "    tf.keras.layers.MaxPooling2D((2, 2)),\n",
    "    tf.keras.layers.Conv2D(64, (3, 3), activation='relu'),\n",
    "    tf.keras.layers.MaxPooling2D((2, 2)),\n",
    "    tf.keras.layers.Conv2D(64, (3, 3), activation='relu'),\n",
    "    tf.keras.layers.MaxPooling2D((2, 2)),\n",
    "    tf.keras.layers.Flatten(),\n",
    "    tf.keras.layers.Dense(64, activation='relu'),\n",
    "    tf.keras.layers.Dense(NUM_CLASSES, activation='softmax'),\n",
    "])"
   ]
  },
  {
   "cell_type": "code",
   "execution_count": 17,
   "id": "20a89938",
   "metadata": {},
   "outputs": [],
   "source": [
    "model.build(INPUT_SHAPE)"
   ]
  },
  {
   "cell_type": "code",
   "execution_count": 18,
   "id": "8a792dba",
   "metadata": {},
   "outputs": [
    {
     "name": "stdout",
     "output_type": "stream",
     "text": [
      "Model: \"sequential_1\"\n",
      "_________________________________________________________________\n",
      "Layer (type)                 Output Shape              Param #   \n",
      "=================================================================\n",
      "sequential (Sequential)      (32, 256, 256, 3)         0         \n",
      "_________________________________________________________________\n",
      "conv2d_1 (Conv2D)            (32, 254, 254, 32)        896       \n",
      "_________________________________________________________________\n",
      "max_pooling2d_1 (MaxPooling2 (32, 127, 127, 32)        0         \n",
      "_________________________________________________________________\n",
      "conv2d_2 (Conv2D)            (32, 125, 125, 64)        18496     \n",
      "_________________________________________________________________\n",
      "max_pooling2d_2 (MaxPooling2 (32, 62, 62, 64)          0         \n",
      "_________________________________________________________________\n",
      "conv2d_3 (Conv2D)            (32, 60, 60, 64)          36928     \n",
      "_________________________________________________________________\n",
      "max_pooling2d_3 (MaxPooling2 (32, 30, 30, 64)          0         \n",
      "_________________________________________________________________\n",
      "conv2d_4 (Conv2D)            (32, 28, 28, 64)          36928     \n",
      "_________________________________________________________________\n",
      "max_pooling2d_4 (MaxPooling2 (32, 14, 14, 64)          0         \n",
      "_________________________________________________________________\n",
      "conv2d_5 (Conv2D)            (32, 12, 12, 64)          36928     \n",
      "_________________________________________________________________\n",
      "max_pooling2d_5 (MaxPooling2 (32, 6, 6, 64)            0         \n",
      "_________________________________________________________________\n",
      "conv2d_6 (Conv2D)            (32, 4, 4, 64)            36928     \n",
      "_________________________________________________________________\n",
      "max_pooling2d_6 (MaxPooling2 (32, 2, 2, 64)            0         \n",
      "_________________________________________________________________\n",
      "flatten (Flatten)            (32, 256)                 0         \n",
      "_________________________________________________________________\n",
      "dense (Dense)                (32, 64)                  16448     \n",
      "_________________________________________________________________\n",
      "dense_1 (Dense)              (32, 3)                   195       \n",
      "=================================================================\n",
      "Total params: 183,747\n",
      "Trainable params: 183,747\n",
      "Non-trainable params: 0\n",
      "_________________________________________________________________\n"
     ]
    }
   ],
   "source": [
    "model.summary()"
   ]
  },
  {
   "cell_type": "code",
   "execution_count": 19,
   "id": "2f67637b",
   "metadata": {},
   "outputs": [],
   "source": [
    "model.compile(\n",
    "    optimizer='adam',\n",
    "    loss=tf.keras.losses.SparseCategoricalCrossentropy(from_logits=False),\n",
    "    metrics=['accuracy']\n",
    ")"
   ]
  },
  {
   "cell_type": "code",
   "execution_count": 20,
   "id": "1452c29b",
   "metadata": {},
   "outputs": [
    {
     "name": "stdout",
     "output_type": "stream",
     "text": [
      "Epoch 1/50\n",
      "54/54 [==============================] - 15s 145ms/step - loss: 0.9620 - accuracy: 0.4413 - val_loss: 0.7626 - val_accuracy: 0.6562\n",
      "Epoch 2/50\n",
      "54/54 [==============================] - 5s 90ms/step - loss: 0.6871 - accuracy: 0.6675 - val_loss: 0.6306 - val_accuracy: 0.7396\n",
      "Epoch 3/50\n",
      "54/54 [==============================] - 5s 90ms/step - loss: 0.4542 - accuracy: 0.7978 - val_loss: 0.4097 - val_accuracy: 0.8177\n",
      "Epoch 4/50\n",
      "54/54 [==============================] - 5s 90ms/step - loss: 0.3587 - accuracy: 0.8543 - val_loss: 0.2116 - val_accuracy: 0.9375\n",
      "Epoch 5/50\n",
      "54/54 [==============================] - 5s 91ms/step - loss: 0.3156 - accuracy: 0.8853 - val_loss: 0.1447 - val_accuracy: 0.9479\n",
      "Epoch 6/50\n",
      "54/54 [==============================] - 5s 90ms/step - loss: 0.1722 - accuracy: 0.9271 - val_loss: 0.0956 - val_accuracy: 0.9688\n",
      "Epoch 7/50\n",
      "54/54 [==============================] - 5s 90ms/step - loss: 0.1210 - accuracy: 0.9519 - val_loss: 0.0598 - val_accuracy: 0.9844\n",
      "Epoch 8/50\n",
      "54/54 [==============================] - 5s 90ms/step - loss: 0.0544 - accuracy: 0.9829 - val_loss: 0.0958 - val_accuracy: 0.9740\n",
      "Epoch 9/50\n",
      "54/54 [==============================] - 5s 90ms/step - loss: 0.0497 - accuracy: 0.9814 - val_loss: 0.1560 - val_accuracy: 0.9375\n",
      "Epoch 10/50\n",
      "54/54 [==============================] - 5s 90ms/step - loss: 0.0855 - accuracy: 0.9632 - val_loss: 0.0268 - val_accuracy: 0.9896\n",
      "Epoch 11/50\n",
      "54/54 [==============================] - 5s 91ms/step - loss: 0.0440 - accuracy: 0.9838 - val_loss: 0.0548 - val_accuracy: 0.9844\n",
      "Epoch 12/50\n",
      "54/54 [==============================] - 5s 91ms/step - loss: 0.0221 - accuracy: 0.9938 - val_loss: 0.0560 - val_accuracy: 0.9844\n",
      "Epoch 13/50\n",
      "54/54 [==============================] - 5s 91ms/step - loss: 0.0150 - accuracy: 0.9960 - val_loss: 0.0570 - val_accuracy: 0.9896\n",
      "Epoch 14/50\n",
      "54/54 [==============================] - 5s 91ms/step - loss: 0.0091 - accuracy: 0.9974 - val_loss: 0.0302 - val_accuracy: 0.9896\n",
      "Epoch 15/50\n",
      "54/54 [==============================] - 5s 91ms/step - loss: 0.0098 - accuracy: 0.9972 - val_loss: 0.0354 - val_accuracy: 0.9844\n",
      "Epoch 16/50\n",
      "54/54 [==============================] - 5s 91ms/step - loss: 0.0382 - accuracy: 0.9844 - val_loss: 0.0427 - val_accuracy: 0.9896\n",
      "Epoch 17/50\n",
      "54/54 [==============================] - 5s 91ms/step - loss: 0.0026 - accuracy: 1.0000 - val_loss: 0.0381 - val_accuracy: 0.9896\n",
      "Epoch 18/50\n",
      "54/54 [==============================] - 5s 91ms/step - loss: 9.5575e-04 - accuracy: 1.0000 - val_loss: 0.0576 - val_accuracy: 0.9896\n",
      "Epoch 19/50\n",
      "54/54 [==============================] - 5s 91ms/step - loss: 6.7822e-04 - accuracy: 1.0000 - val_loss: 0.0465 - val_accuracy: 0.9896\n",
      "Epoch 20/50\n",
      "54/54 [==============================] - 5s 91ms/step - loss: 5.6351e-04 - accuracy: 1.0000 - val_loss: 0.0412 - val_accuracy: 0.9896\n",
      "Epoch 21/50\n",
      "54/54 [==============================] - 5s 91ms/step - loss: 2.1753e-04 - accuracy: 1.0000 - val_loss: 0.0237 - val_accuracy: 0.9896\n",
      "Epoch 22/50\n",
      "54/54 [==============================] - 5s 91ms/step - loss: 1.3382e-04 - accuracy: 1.0000 - val_loss: 0.0302 - val_accuracy: 0.9896\n",
      "Epoch 23/50\n",
      "54/54 [==============================] - 5s 91ms/step - loss: 1.0902e-04 - accuracy: 1.0000 - val_loss: 0.0299 - val_accuracy: 0.9896\n",
      "Epoch 24/50\n",
      "54/54 [==============================] - 5s 91ms/step - loss: 5.9540e-05 - accuracy: 1.0000 - val_loss: 0.0388 - val_accuracy: 0.9896\n",
      "Epoch 25/50\n",
      "54/54 [==============================] - 5s 91ms/step - loss: 6.2371e-05 - accuracy: 1.0000 - val_loss: 0.0347 - val_accuracy: 0.9896\n",
      "Epoch 26/50\n",
      "54/54 [==============================] - 5s 91ms/step - loss: 5.5116e-05 - accuracy: 1.0000 - val_loss: 0.0305 - val_accuracy: 0.9896\n",
      "Epoch 27/50\n",
      "54/54 [==============================] - 5s 91ms/step - loss: 4.1192e-05 - accuracy: 1.0000 - val_loss: 0.0372 - val_accuracy: 0.9896\n",
      "Epoch 28/50\n",
      "54/54 [==============================] - 5s 91ms/step - loss: 4.4801e-05 - accuracy: 1.0000 - val_loss: 0.0350 - val_accuracy: 0.9896\n",
      "Epoch 29/50\n",
      "54/54 [==============================] - 5s 91ms/step - loss: 4.2956e-05 - accuracy: 1.0000 - val_loss: 0.0401 - val_accuracy: 0.9896\n",
      "Epoch 30/50\n",
      "54/54 [==============================] - 5s 91ms/step - loss: 3.1610e-05 - accuracy: 1.0000 - val_loss: 0.0383 - val_accuracy: 0.9896\n",
      "Epoch 31/50\n",
      "54/54 [==============================] - 5s 91ms/step - loss: 2.3226e-05 - accuracy: 1.0000 - val_loss: 0.0416 - val_accuracy: 0.9896\n",
      "Epoch 32/50\n",
      "54/54 [==============================] - 5s 91ms/step - loss: 2.1506e-05 - accuracy: 1.0000 - val_loss: 0.0401 - val_accuracy: 0.9896\n",
      "Epoch 33/50\n",
      "54/54 [==============================] - 5s 91ms/step - loss: 2.1979e-05 - accuracy: 1.0000 - val_loss: 0.0465 - val_accuracy: 0.9896\n",
      "Epoch 34/50\n",
      "54/54 [==============================] - 5s 91ms/step - loss: 3.4582e-05 - accuracy: 1.0000 - val_loss: 0.0417 - val_accuracy: 0.9896\n",
      "Epoch 35/50\n",
      "54/54 [==============================] - 5s 91ms/step - loss: 2.2532e-05 - accuracy: 1.0000 - val_loss: 0.0409 - val_accuracy: 0.9896\n",
      "Epoch 36/50\n",
      "54/54 [==============================] - 5s 91ms/step - loss: 1.8013e-05 - accuracy: 1.0000 - val_loss: 0.0391 - val_accuracy: 0.9896\n",
      "Epoch 37/50\n",
      "54/54 [==============================] - 5s 91ms/step - loss: 2.0129e-05 - accuracy: 1.0000 - val_loss: 0.0436 - val_accuracy: 0.9896\n",
      "Epoch 38/50\n",
      "54/54 [==============================] - 5s 91ms/step - loss: 1.4677e-05 - accuracy: 1.0000 - val_loss: 0.0472 - val_accuracy: 0.9896\n",
      "Epoch 39/50\n",
      "54/54 [==============================] - 5s 91ms/step - loss: 1.4355e-05 - accuracy: 1.0000 - val_loss: 0.0473 - val_accuracy: 0.9896\n",
      "Epoch 40/50\n",
      "54/54 [==============================] - 5s 91ms/step - loss: 1.8019e-05 - accuracy: 1.0000 - val_loss: 0.0478 - val_accuracy: 0.9896\n",
      "Epoch 41/50\n",
      "54/54 [==============================] - 5s 91ms/step - loss: 1.3780e-05 - accuracy: 1.0000 - val_loss: 0.0526 - val_accuracy: 0.9896\n",
      "Epoch 42/50\n",
      "54/54 [==============================] - 5s 91ms/step - loss: 8.4508e-06 - accuracy: 1.0000 - val_loss: 0.0467 - val_accuracy: 0.9896\n",
      "Epoch 43/50\n",
      "54/54 [==============================] - 5s 91ms/step - loss: 9.5356e-06 - accuracy: 1.0000 - val_loss: 0.0564 - val_accuracy: 0.9896\n",
      "Epoch 44/50\n",
      "54/54 [==============================] - 5s 91ms/step - loss: 9.3452e-06 - accuracy: 1.0000 - val_loss: 0.0420 - val_accuracy: 0.9896\n",
      "Epoch 45/50\n",
      "54/54 [==============================] - 5s 91ms/step - loss: 8.6727e-06 - accuracy: 1.0000 - val_loss: 0.0554 - val_accuracy: 0.9896\n",
      "Epoch 46/50\n",
      "54/54 [==============================] - 5s 91ms/step - loss: 9.3171e-06 - accuracy: 1.0000 - val_loss: 0.0453 - val_accuracy: 0.9896\n",
      "Epoch 47/50\n",
      "54/54 [==============================] - 5s 91ms/step - loss: 9.7972e-06 - accuracy: 1.0000 - val_loss: 0.0542 - val_accuracy: 0.9896\n",
      "Epoch 48/50\n",
      "54/54 [==============================] - 5s 92ms/step - loss: 7.5327e-06 - accuracy: 1.0000 - val_loss: 0.0529 - val_accuracy: 0.9896\n",
      "Epoch 49/50\n",
      "54/54 [==============================] - 5s 91ms/step - loss: 7.0098e-06 - accuracy: 1.0000 - val_loss: 0.0479 - val_accuracy: 0.9896\n",
      "Epoch 50/50\n",
      "54/54 [==============================] - 5s 91ms/step - loss: 8.7574e-06 - accuracy: 1.0000 - val_loss: 0.0417 - val_accuracy: 0.9896\n"
     ]
    }
   ],
   "source": [
    "history = model.fit(\n",
    "    train,\n",
    "    batch_size=32,\n",
    "    validation_data=val,\n",
    "    verbose=1,\n",
    "    epochs=50,\n",
    ")"
   ]
  },
  {
   "cell_type": "code",
   "execution_count": 21,
   "id": "81f2a1c0",
   "metadata": {},
   "outputs": [
    {
     "name": "stdout",
     "output_type": "stream",
     "text": [
      "8/8 [==============================] - 4s 72ms/step - loss: 0.0498 - accuracy: 0.9914\n"
     ]
    },
    {
     "data": {
      "text/plain": [
       "[0.04984382167458534, 0.9913793206214905]"
      ]
     },
     "execution_count": 21,
     "metadata": {},
     "output_type": "execute_result"
    }
   ],
   "source": [
    "scores = model.evaluate(test)\n",
    "scores"
   ]
  },
  {
   "cell_type": "code",
   "execution_count": 37,
   "id": "2a8feb84",
   "metadata": {},
   "outputs": [
    {
     "name": "stdout",
     "output_type": "stream",
     "text": [
      "INFO:tensorflow:Assets written to: models/1/assets\n",
      "saved model version 1\n"
     ]
    }
   ],
   "source": [
    "model_version = max([int(i) for i in os.listdir('models/')+[0]])+1\n",
    "model.save(f\"models/{model_version}\")\n",
    "print(f'saved model version {model_version}')"
   ]
  }
 ],
 "metadata": {
  "kernelspec": {
   "display_name": "Python 3",
   "language": "python",
   "name": "python3"
  },
  "language_info": {
   "codemirror_mode": {
    "name": "ipython",
    "version": 3
   },
   "file_extension": ".py",
   "mimetype": "text/x-python",
   "name": "python",
   "nbconvert_exporter": "python",
   "pygments_lexer": "ipython3",
   "version": "3.8.8"
  }
 },
 "nbformat": 4,
 "nbformat_minor": 5
}
